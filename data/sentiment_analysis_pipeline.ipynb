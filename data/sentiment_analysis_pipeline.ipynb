{
  "nbformat": 4,
  "nbformat_minor": 0,
  "metadata": {
    "colab": {
      "provenance": []
    },
    "kernelspec": {
      "name": "python3",
      "display_name": "Python 3"
    },
    "language_info": {
      "name": "python"
    }
  },
  "cells": [
    {
      "cell_type": "code",
      "execution_count": 1,
      "metadata": {
        "colab": {
          "base_uri": "https://localhost:8080/"
        },
        "id": "e_puNMeUsx2p",
        "outputId": "616b788b-414c-4ab7-c4e3-0fd005caed09"
      },
      "outputs": [
        {
          "output_type": "stream",
          "name": "stdout",
          "text": [
            "\u001b[?25l   \u001b[90m━━━━━━━━━━━━━━━━━━━━━━━━━━━━━━━━━━━━━━━━\u001b[0m \u001b[32m0.0/480.6 kB\u001b[0m \u001b[31m?\u001b[0m eta \u001b[36m-:--:--\u001b[0m\r\u001b[2K   \u001b[91m━━━━━━━━━━━━━━━━━━━━━━━━━━━━━━━━━━━━━━━\u001b[0m\u001b[90m╺\u001b[0m \u001b[32m471.0/480.6 kB\u001b[0m \u001b[31m19.6 MB/s\u001b[0m eta \u001b[36m0:00:01\u001b[0m\r\u001b[2K   \u001b[90m━━━━━━━━━━━━━━━━━━━━━━━━━━━━━━━━━━━━━━━━\u001b[0m \u001b[32m480.6/480.6 kB\u001b[0m \u001b[31m10.4 MB/s\u001b[0m eta \u001b[36m0:00:00\u001b[0m\n",
            "\u001b[?25h\u001b[?25l   \u001b[90m━━━━━━━━━━━━━━━━━━━━━━━━━━━━━━━━━━━━━━━━\u001b[0m \u001b[32m0.0/116.3 kB\u001b[0m \u001b[31m?\u001b[0m eta \u001b[36m-:--:--\u001b[0m\r\u001b[2K   \u001b[90m━━━━━━━━━━━━━━━━━━━━━━━━━━━━━━━━━━━━━━━━\u001b[0m \u001b[32m116.3/116.3 kB\u001b[0m \u001b[31m5.3 MB/s\u001b[0m eta \u001b[36m0:00:00\u001b[0m\n",
            "\u001b[2K   \u001b[90m━━━━━━━━━━━━━━━━━━━━━━━━━━━━━━━━━━━━━━━━\u001b[0m \u001b[32m179.3/179.3 kB\u001b[0m \u001b[31m10.0 MB/s\u001b[0m eta \u001b[36m0:00:00\u001b[0m\n",
            "\u001b[2K   \u001b[90m━━━━━━━━━━━━━━━━━━━━━━━━━━━━━━━━━━━━━━━━\u001b[0m \u001b[32m134.8/134.8 kB\u001b[0m \u001b[31m7.2 MB/s\u001b[0m eta \u001b[36m0:00:00\u001b[0m\n",
            "\u001b[2K   \u001b[90m━━━━━━━━━━━━━━━━━━━━━━━━━━━━━━━━━━━━━━━━\u001b[0m \u001b[32m194.1/194.1 kB\u001b[0m \u001b[31m12.9 MB/s\u001b[0m eta \u001b[36m0:00:00\u001b[0m\n",
            "\u001b[?25h\u001b[31mERROR: pip's dependency resolver does not currently take into account all the packages that are installed. This behaviour is the source of the following dependency conflicts.\n",
            "gcsfs 2024.10.0 requires fsspec==2024.10.0, but you have fsspec 2024.9.0 which is incompatible.\u001b[0m\u001b[31m\n",
            "\u001b[0mCollecting emoji==0.6.0\n",
            "  Downloading emoji-0.6.0.tar.gz (51 kB)\n",
            "\u001b[2K     \u001b[90m━━━━━━━━━━━━━━━━━━━━━━━━━━━━━━━━━━━━━━━━\u001b[0m \u001b[32m51.0/51.0 kB\u001b[0m \u001b[31m3.5 MB/s\u001b[0m eta \u001b[36m0:00:00\u001b[0m\n",
            "\u001b[?25h  Preparing metadata (setup.py) ... \u001b[?25l\u001b[?25hdone\n",
            "Building wheels for collected packages: emoji\n",
            "  Building wheel for emoji (setup.py) ... \u001b[?25l\u001b[?25hdone\n",
            "  Created wheel for emoji: filename=emoji-0.6.0-py3-none-any.whl size=49719 sha256=6dd4b6bc8a6cc542c31f71b2d7726be7fe3133a4fdab708b1bfa115d13323ce8\n",
            "  Stored in directory: /root/.cache/pip/wheels/1b/bd/d9/310c33c45a553798a714e27e3b8395d37128425442b8c78e07\n",
            "Successfully built emoji\n",
            "Installing collected packages: emoji\n",
            "Successfully installed emoji-0.6.0\n"
          ]
        }
      ],
      "source": [
        "!pip3 install -q transformers\n",
        "!pip3 install -q datasets\n",
        "!pip3 install emoji==0.6.0"
      ]
    },
    {
      "cell_type": "code",
      "source": [
        "from google.colab import drive\n",
        "drive.mount('/content/drive')"
      ],
      "metadata": {
        "colab": {
          "base_uri": "https://localhost:8080/"
        },
        "id": "PhbNE16DOyUW",
        "outputId": "070aa27c-63b7-4af0-c536-1dec6893b472"
      },
      "execution_count": 3,
      "outputs": [
        {
          "output_type": "stream",
          "name": "stdout",
          "text": [
            "Mounted at /content/drive\n"
          ]
        }
      ]
    },
    {
      "cell_type": "code",
      "source": [
        "import os\n",
        "\n",
        "folder_path = '/content/drive/My Drive/Colab Notebooks/CS 6730 Project' # Change the path to the folder where the assignment is stored in Google Drive.\n",
        "\n",
        "os.listdir(folder_path)\n",
        "\n",
        "os.chdir(folder_path)\n",
        "\n",
        "print('Current working directory -', os.getcwd())"
      ],
      "metadata": {
        "colab": {
          "base_uri": "https://localhost:8080/"
        },
        "id": "rvkzj4XrO7L_",
        "outputId": "78690019-f983-475a-d0cf-9a5e5ed264bc"
      },
      "execution_count": 4,
      "outputs": [
        {
          "output_type": "stream",
          "name": "stdout",
          "text": [
            "Current working directory - /content/drive/My Drive/Colab Notebooks/CS 6730 Project\n"
          ]
        }
      ]
    },
    {
      "cell_type": "code",
      "source": [
        "import pandas as pd\n",
        "df = pd.read_csv('office_lines.csv')\n",
        "print(df.head())"
      ],
      "metadata": {
        "colab": {
          "base_uri": "https://localhost:8080/"
        },
        "id": "yo-2xeQAOfTo",
        "outputId": "487ee8cd-50c4-4d6b-9dd4-35fab561d235"
      },
      "execution_count": 5,
      "outputs": [
        {
          "output_type": "stream",
          "name": "stdout",
          "text": [
            "   speaker                                               line\n",
            "0  Michael  All right Jim. Your quarterlies look very good...\n",
            "1      Jim         Oh, I told you. I couldn't close it. So...\n",
            "2  Michael  So you've come to the master for guidance? Is ...\n",
            "3      Jim         Actually, you called me in here, but yeah.\n",
            "4  Michael    All right. Well, let me show you how it's done.\n"
          ]
        }
      ]
    },
    {
      "cell_type": "code",
      "source": [
        "from transformers import pipeline\n",
        "classifier = pipeline(\"text-classification\",model='bhadresh-savani/distilbert-base-uncased-emotion', top_k=None)"
      ],
      "metadata": {
        "id": "ezTk47lSPTmZ"
      },
      "execution_count": 6,
      "outputs": []
    },
    {
      "cell_type": "code",
      "source": [
        "def classify_emotions(text):\n",
        "  predictions = classifier(text, top_k=None)\n",
        "  return {item['label']: item['score'] for item in predictions}\n",
        "df['emotion_scores'] = df['line'].apply(classify_emotions)\n",
        "emotion_df = pd.json_normalize(df['emotion_scores'])\n",
        "df = pd.concat([df, emotion_df], axis=1)"
      ],
      "metadata": {
        "id": "nVktK0SWPKuK"
      },
      "execution_count": null,
      "outputs": []
    },
    {
      "cell_type": "code",
      "source": [
        "# List of the 16 selected characters\n",
        "selected_characters = [\n",
        "    \"Michael\", \"Dwight\", \"Jim\", \"Pam\", \"Angela\", \"Kevin\", \"Oscar\",\n",
        "    \"Toby\", \"Creed\", \"Ryan\", \"Kelly\", \"Andy\", \"Stanley\",\n",
        "    \"Phyllis\", \"Darryl\", \"Erin\"\n",
        "]\n",
        "\n",
        "# Filter the DataFrame to include only the selected characters\n",
        "df_filtered = df[df['speaker'].isin(selected_characters)]"
      ],
      "metadata": {
        "id": "nIiaTvQbROTJ"
      },
      "execution_count": null,
      "outputs": []
    },
    {
      "cell_type": "code",
      "source": [
        "grouped_df = df_filtered.groupby('speaker')[['joy', 'sadness', 'anger', 'love', 'fear', 'surprise']].mean()\n",
        "print(grouped_df)"
      ],
      "metadata": {
        "id": "bGTVu2XoPuks"
      },
      "execution_count": null,
      "outputs": []
    },
    {
      "cell_type": "code",
      "source": [
        "import matplotlib.pyplot as plt\n",
        "def plot_donut_chart(speaker, emotion_scores):\n",
        "  labels = emotion_scores.index\n",
        "  values = emotion_scores.values\n",
        "  fig, ax = plt.subplots(figsize=(6, 6))\n",
        "  colors = ['#FFD700', '#1E90FF', '#FF6347', '#32CD32', '#FF69B4', '#9370DB']\n",
        "  wedges, texts, autotexts = ax.pie(values, labels=labels, autopct='%1.1f%%', startangle=140, pctdistance=0.85, colors=colors,)\n",
        "  center_circle = plt.Circle((0, 0), 0.70, fc='white')\n",
        "  fig.gca().add_artist(center_circle)\n",
        "  plt.title(f\"Emotion Distribution for {speaker}\", fontsize=14)\n",
        "  plt.savefig(f\"{speaker}_donut_chart.png\", bbox_inches='tight')\n",
        "  plt.show()\n",
        "for speaker in grouped_df.index:\n",
        "  emotion_scores = grouped_df.loc[speaker]\n",
        "  plot_donut_chart(speaker, emotion_scores)"
      ],
      "metadata": {
        "id": "yr2NybjPR8P5"
      },
      "execution_count": null,
      "outputs": []
    }
  ]
}